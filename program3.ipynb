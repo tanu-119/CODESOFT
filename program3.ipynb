{
 "cells": [
  {
   "cell_type": "code",
   "execution_count": 1,
   "id": "95e586bc-70a7-4cdb-ac9c-58df6b0dc877",
   "metadata": {},
   "outputs": [
    {
     "ename": "NameError",
     "evalue": "name '_name_' is not defined",
     "output_type": "error",
     "traceback": [
      "\u001b[1;31m---------------------------------------------------------------------------\u001b[0m",
      "\u001b[1;31mNameError\u001b[0m                                 Traceback (most recent call last)",
      "Cell \u001b[1;32mIn[1], line 71\u001b[0m\n\u001b[0;32m     68\u001b[0m         \u001b[38;5;28;01melse\u001b[39;00m:\n\u001b[0;32m     69\u001b[0m             \u001b[38;5;28mprint\u001b[39m(\u001b[38;5;124m\"\u001b[39m\u001b[38;5;124mInvalid choice. Please enter a number from 1 to 5.\u001b[39m\u001b[38;5;124m\"\u001b[39m)\n\u001b[1;32m---> 71\u001b[0m \u001b[38;5;28;01mif\u001b[39;00m \u001b[43m_name_\u001b[49m \u001b[38;5;241m==\u001b[39m \u001b[38;5;124m\"\u001b[39m\u001b[38;5;124m_main_\u001b[39m\u001b[38;5;124m\"\u001b[39m:\n\u001b[0;32m     72\u001b[0m     tasks \u001b[38;5;241m=\u001b[39m []  \u001b[38;5;66;03m# List to store tasks\u001b[39;00m\n\u001b[0;32m     73\u001b[0m     main()\n",
      "\u001b[1;31mNameError\u001b[0m: name '_name_' is not defined"
     ]
    }
   ],
   "source": [
    "# Define a function to display the menu\n",
    "def display_menu():\n",
    "    print(\"===== To-Do List Application =====\")\n",
    "    print(\"1. View To-Do List\")\n",
    "    print(\"2. Add Task\")\n",
    "    print(\"3. Mark Task as Completed\")\n",
    "    print(\"4. Delete Task\")\n",
    "    print(\"5. Exit\")\n",
    "\n",
    "# Define a function to view all tasks\n",
    "def view_tasks():\n",
    "    print(\"\\n*** Your To-Do List ***\")\n",
    "    if tasks:\n",
    "        for task in tasks:\n",
    "            status = 'Completed' if task['completed'] else 'Not Completed'\n",
    "            print(f\"{task['id']}: {task['description']} - {status}\")\n",
    "    else:\n",
    "        print(\"Your to-do list is empty.\")\n",
    "\n",
    "# Define a function to add a new task\n",
    "def add_task():\n",
    "    description = input(\"Enter task description: \")\n",
    "    new_task = {\n",
    "        'id': len(tasks) + 1,\n",
    "        'description': description,\n",
    "        'completed': False\n",
    "    }\n",
    "    tasks.append(new_task)\n",
    "    print(f\"Task '{description}' added successfully.\")\n",
    "\n",
    "# Define a function to mark a task as completed\n",
    "def mark_completed():\n",
    "    task_id = int(input(\"Enter task ID to mark as completed: \"))\n",
    "    for task in tasks:\n",
    "        if task['id'] == task_id:\n",
    "            task['completed'] = True\n",
    "            print(f\"Task ID {task_id} marked as completed.\")\n",
    "            return\n",
    "    print(f\"Task ID {task_id} not found.\")\n",
    "\n",
    "# Define a function to delete a task\n",
    "def delete_task():\n",
    "    task_id = int(input(\"Enter task ID to delete: \"))\n",
    "    for task in tasks:\n",
    "        if task['id'] == task_id:\n",
    "            tasks.remove(task)\n",
    "            print(f\"Task ID {task_id} deleted.\")\n",
    "            return\n",
    "    print(f\"Task ID {task_id} not found.\")\n",
    "\n",
    "# Main function to run the application\n",
    "def main():\n",
    "    while True:\n",
    "        display_menu()\n",
    "        choice = input(\"Enter your choice (1-5): \")\n",
    "        \n",
    "        if choice == '1':\n",
    "            view_tasks()\n",
    "        elif choice == '2':\n",
    "            add_task()\n",
    "        elif choice == '3':\n",
    "            mark_completed()\n",
    "        elif choice == '4':\n",
    "            delete_task()\n",
    "        elif choice == '5':\n",
    "            print(\"Exiting the program...\")\n",
    "            break\n",
    "        else:\n",
    "            print(\"Invalid choice. Please enter a number from 1 to 5.\")\n",
    "\n",
    "if _name_ == \"_main_\":\n",
    "    tasks = []  # List to store tasks\n",
    "    main()"
   ]
  },
  {
   "cell_type": "code",
   "execution_count": 2,
   "id": "528f83e8-a500-4f60-bcc9-2870c3b2da40",
   "metadata": {},
   "outputs": [
    {
     "name": "stdout",
     "output_type": "stream",
     "text": [
      "===== To-Do List Application =====\n",
      "1. View To-Do List\n",
      "2. Add Task\n",
      "3. Mark Task as Completed\n",
      "4. Delete Task\n",
      "5. Exit\n"
     ]
    },
    {
     "name": "stdin",
     "output_type": "stream",
     "text": [
      "Enter your choice (1-5):  2\n",
      "Enter task description:  New task\n"
     ]
    },
    {
     "name": "stdout",
     "output_type": "stream",
     "text": [
      "Task 'New task' added successfully.\n",
      "===== To-Do List Application =====\n",
      "1. View To-Do List\n",
      "2. Add Task\n",
      "3. Mark Task as Completed\n",
      "4. Delete Task\n",
      "5. Exit\n"
     ]
    },
    {
     "name": "stdin",
     "output_type": "stream",
     "text": [
      "Enter your choice (1-5):  1\n"
     ]
    },
    {
     "name": "stdout",
     "output_type": "stream",
     "text": [
      "\n",
      "*** Your To-Do List ***\n",
      "1: New task - Not Completed\n",
      "===== To-Do List Application =====\n",
      "1. View To-Do List\n",
      "2. Add Task\n",
      "3. Mark Task as Completed\n",
      "4. Delete Task\n",
      "5. Exit\n"
     ]
    },
    {
     "name": "stdin",
     "output_type": "stream",
     "text": [
      "Enter your choice (1-5):  3\n",
      "Enter task ID to mark as completed:  1\n"
     ]
    },
    {
     "name": "stdout",
     "output_type": "stream",
     "text": [
      "Task ID 1 marked as completed.\n",
      "===== To-Do List Application =====\n",
      "1. View To-Do List\n",
      "2. Add Task\n",
      "3. Mark Task as Completed\n",
      "4. Delete Task\n",
      "5. Exit\n"
     ]
    },
    {
     "name": "stdin",
     "output_type": "stream",
     "text": [
      "Enter your choice (1-5):  1\n"
     ]
    },
    {
     "name": "stdout",
     "output_type": "stream",
     "text": [
      "\n",
      "*** Your To-Do List ***\n",
      "1: New task - Completed\n",
      "===== To-Do List Application =====\n",
      "1. View To-Do List\n",
      "2. Add Task\n",
      "3. Mark Task as Completed\n",
      "4. Delete Task\n",
      "5. Exit\n"
     ]
    },
    {
     "name": "stdin",
     "output_type": "stream",
     "text": [
      "Enter your choice (1-5):  4\n",
      "Enter task ID to delete:  1\n"
     ]
    },
    {
     "name": "stdout",
     "output_type": "stream",
     "text": [
      "Task ID 1 deleted.\n",
      "===== To-Do List Application =====\n",
      "1. View To-Do List\n",
      "2. Add Task\n",
      "3. Mark Task as Completed\n",
      "4. Delete Task\n",
      "5. Exit\n"
     ]
    },
    {
     "name": "stdin",
     "output_type": "stream",
     "text": [
      "Enter your choice (1-5):  1\n"
     ]
    },
    {
     "name": "stdout",
     "output_type": "stream",
     "text": [
      "\n",
      "*** Your To-Do List ***\n",
      "Your to-do list is empty.\n",
      "===== To-Do List Application =====\n",
      "1. View To-Do List\n",
      "2. Add Task\n",
      "3. Mark Task as Completed\n",
      "4. Delete Task\n",
      "5. Exit\n"
     ]
    },
    {
     "name": "stdin",
     "output_type": "stream",
     "text": [
      "Enter your choice (1-5):  5\n"
     ]
    },
    {
     "name": "stdout",
     "output_type": "stream",
     "text": [
      "Exiting the program...\n"
     ]
    }
   ],
   "source": [
    "# Define a function to display the menu\n",
    "tasks = [] \n",
    "while True:\n",
    "        display_menu()\n",
    "        choice = input(\"Enter your choice (1-5): \")\n",
    "        \n",
    "        if choice == '1':\n",
    "            view_tasks()\n",
    "        elif choice == '2':\n",
    "            add_task()\n",
    "        elif choice == '3':\n",
    "            mark_completed()\n",
    "        elif choice == '4':\n",
    "            delete_task()\n",
    "        elif choice == '5':\n",
    "            print(\"Exiting the program...\")\n",
    "            break\n",
    "        else:\n",
    "            print(\"Invalid choice. Please enter a number from 1 to 5.\")\n",
    "def display_menu():\n",
    "    print(\"===== To-Do List Application =====\")\n",
    "    print(\"1. View To-Do List\")\n",
    "    print(\"2. Add Task\")\n",
    "    print(\"3. Mark Task as Completed\")\n",
    "    print(\"4. Delete Task\")\n",
    "    print(\"5. Exit\")\n",
    "\n",
    "# Define a function to view all tasks\n",
    "def view_tasks():\n",
    "    print(\"\\n*** Your To-Do List ***\")\n",
    "    if tasks:\n",
    "        for task in tasks:\n",
    "            status = 'Completed' if task['completed'] else 'Not Completed'\n",
    "            print(f\"{task['id']}: {task['description']} - {status}\")\n",
    "    else:\n",
    "        print(\"Your to-do list is empty.\")\n",
    "\n",
    "# Define a function to add a new task\n",
    "def add_task():\n",
    "    description = input(\"Enter task description: \")\n",
    "    new_task = {\n",
    "        'id': len(tasks) + 1,\n",
    "        'description': description,\n",
    "        'completed': False\n",
    "    }\n",
    "    tasks.append(new_task)\n",
    "    print(f\"Task '{description}' added successfully.\")\n",
    "\n",
    "# Define a function to mark a task as completed\n",
    "def mark_completed():\n",
    "    task_id = int(input(\"Enter task ID to mark as completed: \"))\n",
    "    for task in tasks:\n",
    "        if task['id'] == task_id:\n",
    "            task['completed'] = True\n",
    "            print(f\"Task ID {task_id} marked as completed.\")\n",
    "            return\n",
    "    print(f\"Task ID {task_id} not found.\")\n",
    "\n",
    "# Define a function to delete a task\n",
    "def delete_task():\n",
    "    task_id = int(input(\"Enter task ID to delete: \"))\n",
    "    for task in tasks:\n",
    "        if task['id'] == task_id:\n",
    "            tasks.remove(task)\n",
    "            print(f\"Task ID {task_id} deleted.\")\n",
    "            return\n",
    "    print(f\"Task ID {task_id} not found.\")"
   ]
  },
  {
   "cell_type": "code",
   "execution_count": null,
   "id": "93567857-ad7a-4c82-a2b6-57fb1b3eb93f",
   "metadata": {},
   "outputs": [],
   "source": []
  }
 ],
 "metadata": {
  "kernelspec": {
   "display_name": "Python 3 (ipykernel)",
   "language": "python",
   "name": "python3"
  },
  "language_info": {
   "codemirror_mode": {
    "name": "ipython",
    "version": 3
   },
   "file_extension": ".py",
   "mimetype": "text/x-python",
   "name": "python",
   "nbconvert_exporter": "python",
   "pygments_lexer": "ipython3",
   "version": "3.12.4"
  }
 },
 "nbformat": 4,
 "nbformat_minor": 5
}
