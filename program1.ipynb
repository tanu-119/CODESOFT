{
 "cells": [
  {
   "cell_type": "code",
   "execution_count": 1,
   "id": "9c96b665-0cf9-45d5-b63a-b34d36431c87",
   "metadata": {},
   "outputs": [
    {
     "name": "stdin",
     "output_type": "stream",
     "text": [
      "Enter first number: 8\n",
      "Enter second number: 2\n",
      "Enter an operator +\n"
     ]
    },
    {
     "name": "stdout",
     "output_type": "stream",
     "text": [
      "The result of 8 + 2:10\n"
     ]
    }
   ],
   "source": [
    "def arith_op(num1,num2,op):\n",
    "    if op=='+':\n",
    "        result=num1+num2\n",
    "    elif op=='-':\n",
    "        result=num1-num2\n",
    "    elif op=='*':\n",
    "        result=num1*num2\n",
    "    elif op=='%':\n",
    "        result=num1%num2\n",
    "    elif op=='/':\n",
    "        if num2!=0:\n",
    "            result=num1/num2\n",
    "        else:\n",
    "            print(\"Error:Division by zero\")\n",
    "            return\n",
    "    elif op=='//':\n",
    "        if num2!=0:\n",
    "            result=num1//num2\n",
    "        else:\n",
    "            print(\"Error:Division by zero\")\n",
    "            return\n",
    "    else:\n",
    "        print(\"Invalid input\")\n",
    "    print(f\"The result of {num1} {op} {num2}:{result}\")\n",
    "num1=int(input(\"Enter first number:\"))\n",
    "num2=int(input(\"Enter second number:\"))\n",
    "op=input(\"Enter an operator\")\n",
    "arith_op(num1,num2,op)\n"
   ]
  },
  {
   "cell_type": "code",
   "execution_count": null,
   "id": "0eff9b92-9131-4508-9b64-1a9c1eacd8d4",
   "metadata": {},
   "outputs": [],
   "source": []
  }
 ],
 "metadata": {
  "kernelspec": {
   "display_name": "Python 3 (ipykernel)",
   "language": "python",
   "name": "python3"
  },
  "language_info": {
   "codemirror_mode": {
    "name": "ipython",
    "version": 3
   },
   "file_extension": ".py",
   "mimetype": "text/x-python",
   "name": "python",
   "nbconvert_exporter": "python",
   "pygments_lexer": "ipython3",
   "version": "3.12.4"
  }
 },
 "nbformat": 4,
 "nbformat_minor": 5
}
