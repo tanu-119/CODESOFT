{
 "cells": [
  {
   "cell_type": "code",
   "execution_count": 6,
   "id": "69c75c4a-f1eb-495d-b073-36f401e79142",
   "metadata": {},
   "outputs": [
    {
     "name": "stdin",
     "output_type": "stream",
     "text": [
      "Enter length for password: 5\n"
     ]
    },
    {
     "name": "stdout",
     "output_type": "stream",
     "text": [
      "Generated password is :JdX%-\n"
     ]
    }
   ],
   "source": [
    "import random\n",
    "import string\n",
    "def random_password(length):\n",
    "    if length>=1:\n",
    "           values=string.ascii_letters+string.digits+string.punctuation\n",
    "           password=\"\".join(random.choice(values)for _ in range(length))\n",
    "           print(f\"Generated password is :{password}\")\n",
    "    else:\n",
    "           print(f\"Invalid length\")\n",
    "length=int(input(\"Enter length for password:\"))\n",
    "random_password(length)\n",
    "                      \n",
    "    "
   ]
  },
  {
   "cell_type": "code",
   "execution_count": null,
   "id": "115fb81c-6650-4dbf-a03a-cfbb9c412dff",
   "metadata": {},
   "outputs": [],
   "source": []
  }
 ],
 "metadata": {
  "kernelspec": {
   "display_name": "Python 3 (ipykernel)",
   "language": "python",
   "name": "python3"
  },
  "language_info": {
   "codemirror_mode": {
    "name": "ipython",
    "version": 3
   },
   "file_extension": ".py",
   "mimetype": "text/x-python",
   "name": "python",
   "nbconvert_exporter": "python",
   "pygments_lexer": "ipython3",
   "version": "3.12.4"
  }
 },
 "nbformat": 4,
 "nbformat_minor": 5
}
